{
 "cells": [
  {
   "cell_type": "markdown",
   "id": "94d1b75d",
   "metadata": {
    "papermill": {
     "duration": 0.016153,
     "end_time": "2022-10-16T18:23:45.143578",
     "exception": false,
     "start_time": "2022-10-16T18:23:45.127425",
     "status": "completed"
    },
    "tags": []
   },
   "source": [
    "**This notebook is an exercise in the [Introduction to Machine Learning](https://www.kaggle.com/learn/intro-to-machine-learning) course.  You can reference the tutorial at [this link](https://www.kaggle.com/alexisbcook/machine-learning-competitions).**\n",
    "\n",
    "---\n"
   ]
  },
  {
   "cell_type": "markdown",
   "id": "c9047984",
   "metadata": {
    "execution": {
     "iopub.execute_input": "2022-10-16T11:18:33.736927Z",
     "iopub.status.busy": "2022-10-16T11:18:33.736507Z",
     "iopub.status.idle": "2022-10-16T11:18:33.754130Z",
     "shell.execute_reply": "2022-10-16T11:18:33.752749Z",
     "shell.execute_reply.started": "2022-10-16T11:18:33.736889Z"
    },
    "papermill": {
     "duration": 0.017276,
     "end_time": "2022-10-16T18:23:45.175362",
     "exception": false,
     "start_time": "2022-10-16T18:23:45.158086",
     "status": "completed"
    },
    "tags": []
   },
   "source": [
    "![alt text for screen readers](https://thumbs.dreamstime.com/b/outline-ames-iowa-skyline-white-buildings-vector-illustration-business-travel-tourism-concept-historic-architecture-203382169.jpg \"Credits: dreamstime.com\")\n",
    "\n",
    "<span style=\"color:PaleVioletRed;font-weight:600;font-size:50px;font-family:monotype;\">\n",
    "    Housing Prices Competition: Ames Housing dataset \n",
    "</span>\n",
    "    \n",
    "\n",
    "\n",
    "        \n",
    "\n",
    "    This is a tutorial for beginners to work through the Housing Prices Cometition for Kaggle Learn Users [Competition](https://www.kaggle.com/competitions/home-data-for-ml-course/)\n",
    "    \n",
    "    Here is a short problem description:\n",
    "    \"With 79 explanatory variables describing (almost) every aspect of residential homes in Ames, Iowa, this competition challenges you to predict the final price of each home.\"\n",
    "    The task is to predict the selling price of a home based on a dataset describing exisiting homes, and their features and the final price.\n",
    "    \n",
    "    In this kernel, we will work through the kaggle dataset Ames Housing to understand basic concepts of a Random forest Regressor.\n",
    "    \n",
    "    Hope you enjoy the kernel! "
   ]
  },
  {
   "cell_type": "markdown",
   "id": "61501b29",
   "metadata": {
    "execution": {
     "iopub.execute_input": "2022-10-16T11:30:01.239089Z",
     "iopub.status.busy": "2022-10-16T11:30:01.238697Z",
     "iopub.status.idle": "2022-10-16T11:30:01.255842Z",
     "shell.execute_reply": "2022-10-16T11:30:01.254499Z",
     "shell.execute_reply.started": "2022-10-16T11:30:01.239055Z"
    },
    "papermill": {
     "duration": 0.01429,
     "end_time": "2022-10-16T18:23:45.204456",
     "exception": false,
     "start_time": "2022-10-16T18:23:45.190166",
     "status": "completed"
    },
    "tags": []
   },
   "source": [
    "<span style=\"color:grey;font-weight:500;font-size:20px;font-style:serif\">\n",
    "<span style=\"color:pink;font-weight:600;font-size:30px;font-style:serif\">\n",
    "    Objective\n",
    "</span>\n",
    "\n",
    "Predict the selling price of a home based on a dataset describing exisiting homes, and their features and the final price\n",
    "\n",
    "<span style=\"color:pink;font-weight:600;font-size:30px;font-style:serif\">\n",
    "    File description\n",
    "</span>\n",
    "    \n",
    "- Starter: Housing Price prediction | Random Forest.ipynb : Tutorial and steps to load, wrangle the data, apply logistic regression classifier and test model performance.\n",
    "- home-data-for-ml-course : data file consisiting of the Ames Housing dataset\n",
    "\n",
    "<span style=\"color:pink;font-weight:600;font-size:30px;font-style:serif\">\n",
    "   Data description\n",
    "</span> \n",
    " \n",
    " Tabular data consisting of 1460 entries, each with 81 attributes, including 'SalePrice', which would be the target for prediction \n",
    " \n",
    "**Source:** The Ames Housing dataset was compiled by Dean De Cock for use in data science education. \n",
    "</span>\n"
   ]
  },
  {
   "cell_type": "markdown",
   "id": "d01cfd82",
   "metadata": {
    "papermill": {
     "duration": 0.014763,
     "end_time": "2022-10-16T18:23:45.233906",
     "exception": false,
     "start_time": "2022-10-16T18:23:45.219143",
     "status": "completed"
    },
    "tags": []
   },
   "source": [
    "<a id='21'>\n",
    "</a>\n",
    "<span style=\"color:pink;font-weight:600;font-size:30px;font-style:serif\">\n",
    "   Data Analysis Content\n",
    "</span>\n",
    "<span style=\"font-weight:600;font-size:20px;font-style:serif\">\n",
    "    \n",
    "1. [Import Dependencies](#1)\n",
    "1. [Load Data](#2)\n",
    "1. [Data preprocessing](#3)\n",
    "    1. [Remove null values](#4)\n",
    "    1. [Remove highly correlated features](#5) \n",
    "    1. [Feature engineering](#6)\n",
    "    1. [Split dataset](#7)\n",
    "    1. [One hot encode](#8)\n",
    "    1. [Feature scaling](#8b)\n",
    "1. [ Random Forest Regressor](#9)\n",
    "    1. [Performance Evaluation](#10)\n",
    "    1. [Train model on all data](#11)\n",
    "1. [Load raw data for prediction](#12)\n",
    "1. [Test-data preprocessing](#13)\n",
    "    1. [Feature match with training data](#14) \n",
    "    1. [Feature engineering](#15)\n",
    "    1. [Replace null values](#16)\n",
    "    1. [One hot encode](#17)\n",
    "    1. [Feature scaling](#18)\n",
    "1. [Data prediction on test data](#19)\n",
    "1. [Generate submission](#20)\n",
    "\n",
    "</span>"
   ]
  },
  {
   "cell_type": "markdown",
   "id": "66c5ff51",
   "metadata": {
    "execution": {
     "iopub.execute_input": "2022-10-16T11:48:52.239744Z",
     "iopub.status.busy": "2022-10-16T11:48:52.239308Z",
     "iopub.status.idle": "2022-10-16T11:48:52.248630Z",
     "shell.execute_reply": "2022-10-16T11:48:52.246608Z",
     "shell.execute_reply.started": "2022-10-16T11:48:52.239705Z"
    },
    "papermill": {
     "duration": 0.015179,
     "end_time": "2022-10-16T18:23:45.264763",
     "exception": false,
     "start_time": "2022-10-16T18:23:45.249584",
     "status": "completed"
    },
    "tags": []
   },
   "source": [
    "<a id='1'></a>\n",
    "<span style=\"color:pink;font-weight:600;font-size:25px;font-style:serif\">\n",
    "    Import Dependencies\n",
    "</span>\n",
    "\n",
    "<span style=\"color:grey;font-weight:500;font-size:20px;font-style:serif\">\n",
    "    First we will import our helper modules that we will use throughout this kernel\n",
    "</span>\n"
   ]
  },
  {
   "cell_type": "code",
   "execution_count": 1,
   "id": "20e62f61",
   "metadata": {
    "execution": {
     "iopub.execute_input": "2022-10-16T18:23:45.296674Z",
     "iopub.status.busy": "2022-10-16T18:23:45.295892Z",
     "iopub.status.idle": "2022-10-16T18:23:46.913441Z",
     "shell.execute_reply": "2022-10-16T18:23:46.912159Z"
    },
    "papermill": {
     "duration": 1.636743,
     "end_time": "2022-10-16T18:23:46.916507",
     "exception": false,
     "start_time": "2022-10-16T18:23:45.279764",
     "status": "completed"
    },
    "tags": []
   },
   "outputs": [],
   "source": [
    "# Import helpful libraries\n",
    "import pandas as pd\n",
    "import numpy as np\n",
    "from sklearn.ensemble import RandomForestRegressor\n",
    "from sklearn.metrics import mean_absolute_error\n",
    "from sklearn.model_selection import train_test_split\n",
    "from sklearn.preprocessing import StandardScaler \n",
    "from sklearn.decomposition import PCA\n",
    "from sklearn.cluster import k_means"
   ]
  },
  {
   "cell_type": "markdown",
   "id": "daf777ca",
   "metadata": {
    "papermill": {
     "duration": 0.015077,
     "end_time": "2022-10-16T18:23:46.946149",
     "exception": false,
     "start_time": "2022-10-16T18:23:46.931072",
     "status": "completed"
    },
    "tags": []
   },
   "source": [
    "<a id='2'></a>\n",
    "<span style=\"color:pink;font-weight:600;font-size:25px;font-style:serif\">\n",
    "    Load Data\n",
    "</span>\n"
   ]
  },
  {
   "cell_type": "code",
   "execution_count": 2,
   "id": "31576543",
   "metadata": {
    "execution": {
     "iopub.execute_input": "2022-10-16T18:23:46.977783Z",
     "iopub.status.busy": "2022-10-16T18:23:46.977359Z",
     "iopub.status.idle": "2022-10-16T18:23:47.045874Z",
     "shell.execute_reply": "2022-10-16T18:23:47.044979Z"
    },
    "papermill": {
     "duration": 0.086917,
     "end_time": "2022-10-16T18:23:47.048382",
     "exception": false,
     "start_time": "2022-10-16T18:23:46.961465",
     "status": "completed"
    },
    "tags": []
   },
   "outputs": [],
   "source": [
    "# Load the data, and separate the target\n",
    "iowa_file_path = '../input/train.csv'\n",
    "df = pd.read_csv(iowa_file_path)\n",
    "\n",
    "\n",
    "pd.options.display.max_rows = 20"
   ]
  },
  {
   "cell_type": "code",
   "execution_count": 3,
   "id": "b92b2278",
   "metadata": {
    "execution": {
     "iopub.execute_input": "2022-10-16T18:23:47.080589Z",
     "iopub.status.busy": "2022-10-16T18:23:47.079794Z",
     "iopub.status.idle": "2022-10-16T18:23:47.089392Z",
     "shell.execute_reply": "2022-10-16T18:23:47.088193Z"
    },
    "papermill": {
     "duration": 0.027943,
     "end_time": "2022-10-16T18:23:47.091577",
     "exception": false,
     "start_time": "2022-10-16T18:23:47.063634",
     "status": "completed"
    },
    "tags": []
   },
   "outputs": [
    {
     "data": {
      "text/plain": [
       "Index(['Id', 'MSSubClass', 'MSZoning', 'LotFrontage', 'LotArea', 'Street',\n",
       "       'Alley', 'LotShape', 'LandContour', 'Utilities', 'LotConfig',\n",
       "       'LandSlope', 'Neighborhood', 'Condition1', 'Condition2', 'BldgType',\n",
       "       'HouseStyle', 'OverallQual', 'OverallCond', 'YearBuilt', 'YearRemodAdd',\n",
       "       'RoofStyle', 'RoofMatl', 'Exterior1st', 'Exterior2nd', 'MasVnrType',\n",
       "       'MasVnrArea', 'ExterQual', 'ExterCond', 'Foundation', 'BsmtQual',\n",
       "       'BsmtCond', 'BsmtExposure', 'BsmtFinType1', 'BsmtFinSF1',\n",
       "       'BsmtFinType2', 'BsmtFinSF2', 'BsmtUnfSF', 'TotalBsmtSF', 'Heating',\n",
       "       'HeatingQC', 'CentralAir', 'Electrical', '1stFlrSF', '2ndFlrSF',\n",
       "       'LowQualFinSF', 'GrLivArea', 'BsmtFullBath', 'BsmtHalfBath', 'FullBath',\n",
       "       'HalfBath', 'BedroomAbvGr', 'KitchenAbvGr', 'KitchenQual',\n",
       "       'TotRmsAbvGrd', 'Functional', 'Fireplaces', 'FireplaceQu', 'GarageType',\n",
       "       'GarageYrBlt', 'GarageFinish', 'GarageCars', 'GarageArea', 'GarageQual',\n",
       "       'GarageCond', 'PavedDrive', 'WoodDeckSF', 'OpenPorchSF',\n",
       "       'EnclosedPorch', '3SsnPorch', 'ScreenPorch', 'PoolArea', 'PoolQC',\n",
       "       'Fence', 'MiscFeature', 'MiscVal', 'MoSold', 'YrSold', 'SaleType',\n",
       "       'SaleCondition', 'SalePrice'],\n",
       "      dtype='object')"
      ]
     },
     "execution_count": 3,
     "metadata": {},
     "output_type": "execute_result"
    }
   ],
   "source": [
    "df.columns"
   ]
  },
  {
   "cell_type": "markdown",
   "id": "07be27ee",
   "metadata": {
    "papermill": {
     "duration": 0.01434,
     "end_time": "2022-10-16T18:23:47.121741",
     "exception": false,
     "start_time": "2022-10-16T18:23:47.107401",
     "status": "completed"
    },
    "tags": []
   },
   "source": [
    "<a id='4'></a>\n",
    "<span style=\"color:pink;font-weight:600;font-size:25px;font-style:serif\">\n",
    "    Data preprocessing\n",
    "</span>\n"
   ]
  },
  {
   "cell_type": "code",
   "execution_count": 4,
   "id": "78f371e4",
   "metadata": {
    "execution": {
     "iopub.execute_input": "2022-10-16T18:23:47.155505Z",
     "iopub.status.busy": "2022-10-16T18:23:47.154861Z",
     "iopub.status.idle": "2022-10-16T18:23:47.170973Z",
     "shell.execute_reply": "2022-10-16T18:23:47.169990Z"
    },
    "papermill": {
     "duration": 0.036732,
     "end_time": "2022-10-16T18:23:47.173503",
     "exception": false,
     "start_time": "2022-10-16T18:23:47.136771",
     "status": "completed"
    },
    "tags": []
   },
   "outputs": [],
   "source": [
    "# Split dataset into independent & dependent datasets\n",
    "X = df.drop('SalePrice', axis=1)\n",
    "y = df.SalePrice"
   ]
  },
  {
   "cell_type": "markdown",
   "id": "e1d93bfb",
   "metadata": {
    "execution": {
     "iopub.execute_input": "2022-10-16T11:55:17.928077Z",
     "iopub.status.busy": "2022-10-16T11:55:17.926710Z",
     "iopub.status.idle": "2022-10-16T11:55:17.935844Z",
     "shell.execute_reply": "2022-10-16T11:55:17.934174Z",
     "shell.execute_reply.started": "2022-10-16T11:55:17.928026Z"
    },
    "papermill": {
     "duration": 0.01399,
     "end_time": "2022-10-16T18:23:47.201972",
     "exception": false,
     "start_time": "2022-10-16T18:23:47.187982",
     "status": "completed"
    },
    "tags": []
   },
   "source": [
    "<a id='3'></a>\n",
    "<span style=\"color:pink;font-weight:600;font-size:20px;font-style:serif\">\n",
    "    Remove null values\n",
    "</span>\n"
   ]
  },
  {
   "cell_type": "code",
   "execution_count": 5,
   "id": "ace127d3",
   "metadata": {
    "execution": {
     "iopub.execute_input": "2022-10-16T18:23:47.233902Z",
     "iopub.status.busy": "2022-10-16T18:23:47.233260Z",
     "iopub.status.idle": "2022-10-16T18:23:47.246026Z",
     "shell.execute_reply": "2022-10-16T18:23:47.245122Z"
    },
    "papermill": {
     "duration": 0.032018,
     "end_time": "2022-10-16T18:23:47.248381",
     "exception": false,
     "start_time": "2022-10-16T18:23:47.216363",
     "status": "completed"
    },
    "tags": []
   },
   "outputs": [
    {
     "data": {
      "text/plain": [
       "Id                 0\n",
       "MSSubClass         0\n",
       "MSZoning           0\n",
       "LotFrontage      259\n",
       "LotArea            0\n",
       "                ... \n",
       "MiscVal            0\n",
       "MoSold             0\n",
       "YrSold             0\n",
       "SaleType           0\n",
       "SaleCondition      0\n",
       "Length: 80, dtype: int64"
      ]
     },
     "execution_count": 5,
     "metadata": {},
     "output_type": "execute_result"
    }
   ],
   "source": [
    "# Detect null values\n",
    "X.isna().sum()"
   ]
  },
  {
   "cell_type": "code",
   "execution_count": 6,
   "id": "9ca1d95e",
   "metadata": {
    "execution": {
     "iopub.execute_input": "2022-10-16T18:23:47.281574Z",
     "iopub.status.busy": "2022-10-16T18:23:47.280952Z",
     "iopub.status.idle": "2022-10-16T18:23:47.302831Z",
     "shell.execute_reply": "2022-10-16T18:23:47.301547Z"
    },
    "papermill": {
     "duration": 0.041097,
     "end_time": "2022-10-16T18:23:47.305297",
     "exception": false,
     "start_time": "2022-10-16T18:23:47.264200",
     "status": "completed"
    },
    "tags": []
   },
   "outputs": [
    {
     "data": {
      "text/plain": [
       "Id               0\n",
       "MSSubClass       0\n",
       "MSZoning         0\n",
       "LotArea          0\n",
       "Street           0\n",
       "                ..\n",
       "MiscVal          0\n",
       "MoSold           0\n",
       "YrSold           0\n",
       "SaleType         0\n",
       "SaleCondition    0\n",
       "Length: 61, dtype: int64"
      ]
     },
     "execution_count": 6,
     "metadata": {},
     "output_type": "execute_result"
    }
   ],
   "source": [
    "# Drop null values\n",
    "def nulldrop(df):\n",
    "    df.dropna(axis=1, inplace=True)\n",
    "    return df\n",
    "       \n",
    "X = nulldrop(X)\n",
    "X.isna().sum()"
   ]
  },
  {
   "cell_type": "code",
   "execution_count": 7,
   "id": "e66b18ac",
   "metadata": {
    "execution": {
     "iopub.execute_input": "2022-10-16T18:23:47.338231Z",
     "iopub.status.busy": "2022-10-16T18:23:47.337768Z",
     "iopub.status.idle": "2022-10-16T18:23:47.344858Z",
     "shell.execute_reply": "2022-10-16T18:23:47.343760Z"
    },
    "papermill": {
     "duration": 0.025621,
     "end_time": "2022-10-16T18:23:47.347004",
     "exception": false,
     "start_time": "2022-10-16T18:23:47.321383",
     "status": "completed"
    },
    "tags": []
   },
   "outputs": [
    {
     "data": {
      "text/plain": [
       "(1460, 61)"
      ]
     },
     "execution_count": 7,
     "metadata": {},
     "output_type": "execute_result"
    }
   ],
   "source": [
    "X.shape"
   ]
  },
  {
   "cell_type": "markdown",
   "id": "b13c17bc",
   "metadata": {
    "execution": {
     "iopub.execute_input": "2022-10-16T16:43:53.839342Z",
     "iopub.status.busy": "2022-10-16T16:43:53.838807Z",
     "iopub.status.idle": "2022-10-16T16:43:53.847560Z",
     "shell.execute_reply": "2022-10-16T16:43:53.846043Z",
     "shell.execute_reply.started": "2022-10-16T16:43:53.839298Z"
    },
    "papermill": {
     "duration": 0.015146,
     "end_time": "2022-10-16T18:23:47.377648",
     "exception": false,
     "start_time": "2022-10-16T18:23:47.362502",
     "status": "completed"
    },
    "tags": []
   },
   "source": [
    "<a id='4'></a>\n",
    "<span style=\"color:pink;font-weight:600;font-size:20px;font-style:serif\">\n",
    "    Remove highly correlated features\n",
    "</span>\n",
    "\n",
    "<span style=\"color:grey;font-weight:500;font-size:20px;font-style:serif\">\n",
    "Hghly correlated features can lead to multicollinearity among independent variables. This can affect model performance. Hene, it is important to remove such features. \n",
    "</span>"
   ]
  },
  {
   "cell_type": "code",
   "execution_count": 8,
   "id": "380cbd49",
   "metadata": {
    "execution": {
     "iopub.execute_input": "2022-10-16T18:23:47.411191Z",
     "iopub.status.busy": "2022-10-16T18:23:47.410524Z",
     "iopub.status.idle": "2022-10-16T18:23:47.434966Z",
     "shell.execute_reply": "2022-10-16T18:23:47.433398Z"
    },
    "papermill": {
     "duration": 0.044061,
     "end_time": "2022-10-16T18:23:47.437416",
     "exception": false,
     "start_time": "2022-10-16T18:23:47.393355",
     "status": "completed"
    },
    "tags": []
   },
   "outputs": [
    {
     "name": "stdout",
     "output_type": "stream",
     "text": [
      "The reduced dataframe has 61 columns.\n"
     ]
    }
   ],
   "source": [
    "# removing highly correlated features to avoid multicolinearity\n",
    "def corrdrop(df, maxcorr):\n",
    "    corr_matrix = df.corr().abs() \n",
    "    mask = np.triu(np.ones_like(corr_matrix, dtype = bool))\n",
    "    tri_df = corr_matrix.mask(mask)\n",
    "    to_drop = [x for x in tri_df.columns if any(tri_df[x] > maxcorr)]\n",
    "    df = df.drop(to_drop, axis = 1)\n",
    "    return df\n",
    "\n",
    "X = corrdrop(X, 0.95)\n",
    "print(f\"The reduced dataframe has {X.shape[1]} columns.\")"
   ]
  },
  {
   "cell_type": "code",
   "execution_count": 9,
   "id": "1c80e06c",
   "metadata": {
    "execution": {
     "iopub.execute_input": "2022-10-16T18:23:47.470194Z",
     "iopub.status.busy": "2022-10-16T18:23:47.469738Z",
     "iopub.status.idle": "2022-10-16T18:23:47.474518Z",
     "shell.execute_reply": "2022-10-16T18:23:47.473287Z"
    },
    "papermill": {
     "duration": 0.024096,
     "end_time": "2022-10-16T18:23:47.476939",
     "exception": false,
     "start_time": "2022-10-16T18:23:47.452843",
     "status": "completed"
    },
    "tags": []
   },
   "outputs": [],
   "source": [
    "# Note down column names for later\n",
    "corr_cols = X.columns"
   ]
  },
  {
   "cell_type": "markdown",
   "id": "8efff51a",
   "metadata": {
    "papermill": {
     "duration": 0.014411,
     "end_time": "2022-10-16T18:23:47.507233",
     "exception": false,
     "start_time": "2022-10-16T18:23:47.492822",
     "status": "completed"
    },
    "tags": []
   },
   "source": [
    "<a id='5'></a>\n",
    "<span style=\"color:pink;font-weight:600;font-size:20px;font-style:serif\">\n",
    "    Feature engineering\n",
    "</span>\n",
    "\n",
    "<span style=\"color:grey;font-weight:500;font-size:20px;font-style:serif\">\n",
    "Here, we will create new features from exisiting ones that would act as good indicators of the price of a house, for example, the total number of bathrooms a house has.\n",
    "</span>"
   ]
  },
  {
   "cell_type": "code",
   "execution_count": 10,
   "id": "d2f17fc7",
   "metadata": {
    "execution": {
     "iopub.execute_input": "2022-10-16T18:23:47.538842Z",
     "iopub.status.busy": "2022-10-16T18:23:47.538142Z",
     "iopub.status.idle": "2022-10-16T18:23:47.550895Z",
     "shell.execute_reply": "2022-10-16T18:23:47.549993Z"
    },
    "papermill": {
     "duration": 0.031272,
     "end_time": "2022-10-16T18:23:47.553246",
     "exception": false,
     "start_time": "2022-10-16T18:23:47.521974",
     "status": "completed"
    },
    "tags": []
   },
   "outputs": [
    {
     "data": {
      "text/plain": [
       "(1460, 64)"
      ]
     },
     "execution_count": 10,
     "metadata": {},
     "output_type": "execute_result"
    }
   ],
   "source": [
    "def create_extra_features(df):    \n",
    "    df['TotBath'] = df['FullBath'] + (0.5* df['HalfBath']) + df['BsmtFullBath'] + (0.5*df['BsmtHalfBath'])    \n",
    "    df['Total_Home_Quality'] = df['OverallQual'] + df['OverallCond']\n",
    "    df[\"HighQualSF\"] = df[\"1stFlrSF\"] + df[\"2ndFlrSF\"]\n",
    "    return df\n",
    "\n",
    "X = create_extra_features(X)\n",
    "X.shape"
   ]
  },
  {
   "cell_type": "code",
   "execution_count": 11,
   "id": "067f9f0c",
   "metadata": {
    "execution": {
     "iopub.execute_input": "2022-10-16T18:23:47.586268Z",
     "iopub.status.busy": "2022-10-16T18:23:47.585834Z",
     "iopub.status.idle": "2022-10-16T18:23:47.616361Z",
     "shell.execute_reply": "2022-10-16T18:23:47.614988Z"
    },
    "papermill": {
     "duration": 0.049712,
     "end_time": "2022-10-16T18:23:47.618966",
     "exception": false,
     "start_time": "2022-10-16T18:23:47.569254",
     "status": "completed"
    },
    "tags": []
   },
   "outputs": [
    {
     "data": {
      "text/html": [
       "<div>\n",
       "<style scoped>\n",
       "    .dataframe tbody tr th:only-of-type {\n",
       "        vertical-align: middle;\n",
       "    }\n",
       "\n",
       "    .dataframe tbody tr th {\n",
       "        vertical-align: top;\n",
       "    }\n",
       "\n",
       "    .dataframe thead th {\n",
       "        text-align: right;\n",
       "    }\n",
       "</style>\n",
       "<table border=\"1\" class=\"dataframe\">\n",
       "  <thead>\n",
       "    <tr style=\"text-align: right;\">\n",
       "      <th></th>\n",
       "      <th>Id</th>\n",
       "      <th>MSSubClass</th>\n",
       "      <th>MSZoning</th>\n",
       "      <th>LotArea</th>\n",
       "      <th>Street</th>\n",
       "      <th>LotShape</th>\n",
       "      <th>LandContour</th>\n",
       "      <th>Utilities</th>\n",
       "      <th>LotConfig</th>\n",
       "      <th>LandSlope</th>\n",
       "      <th>...</th>\n",
       "      <th>ScreenPorch</th>\n",
       "      <th>PoolArea</th>\n",
       "      <th>MiscVal</th>\n",
       "      <th>MoSold</th>\n",
       "      <th>YrSold</th>\n",
       "      <th>SaleType</th>\n",
       "      <th>SaleCondition</th>\n",
       "      <th>TotBath</th>\n",
       "      <th>Total_Home_Quality</th>\n",
       "      <th>HighQualSF</th>\n",
       "    </tr>\n",
       "  </thead>\n",
       "  <tbody>\n",
       "    <tr>\n",
       "      <th>0</th>\n",
       "      <td>1</td>\n",
       "      <td>60</td>\n",
       "      <td>RL</td>\n",
       "      <td>8450</td>\n",
       "      <td>Pave</td>\n",
       "      <td>Reg</td>\n",
       "      <td>Lvl</td>\n",
       "      <td>AllPub</td>\n",
       "      <td>Inside</td>\n",
       "      <td>Gtl</td>\n",
       "      <td>...</td>\n",
       "      <td>0</td>\n",
       "      <td>0</td>\n",
       "      <td>0</td>\n",
       "      <td>2</td>\n",
       "      <td>2008</td>\n",
       "      <td>WD</td>\n",
       "      <td>Normal</td>\n",
       "      <td>3.5</td>\n",
       "      <td>12</td>\n",
       "      <td>1710</td>\n",
       "    </tr>\n",
       "    <tr>\n",
       "      <th>1</th>\n",
       "      <td>2</td>\n",
       "      <td>20</td>\n",
       "      <td>RL</td>\n",
       "      <td>9600</td>\n",
       "      <td>Pave</td>\n",
       "      <td>Reg</td>\n",
       "      <td>Lvl</td>\n",
       "      <td>AllPub</td>\n",
       "      <td>FR2</td>\n",
       "      <td>Gtl</td>\n",
       "      <td>...</td>\n",
       "      <td>0</td>\n",
       "      <td>0</td>\n",
       "      <td>0</td>\n",
       "      <td>5</td>\n",
       "      <td>2007</td>\n",
       "      <td>WD</td>\n",
       "      <td>Normal</td>\n",
       "      <td>2.5</td>\n",
       "      <td>14</td>\n",
       "      <td>1262</td>\n",
       "    </tr>\n",
       "    <tr>\n",
       "      <th>2</th>\n",
       "      <td>3</td>\n",
       "      <td>60</td>\n",
       "      <td>RL</td>\n",
       "      <td>11250</td>\n",
       "      <td>Pave</td>\n",
       "      <td>IR1</td>\n",
       "      <td>Lvl</td>\n",
       "      <td>AllPub</td>\n",
       "      <td>Inside</td>\n",
       "      <td>Gtl</td>\n",
       "      <td>...</td>\n",
       "      <td>0</td>\n",
       "      <td>0</td>\n",
       "      <td>0</td>\n",
       "      <td>9</td>\n",
       "      <td>2008</td>\n",
       "      <td>WD</td>\n",
       "      <td>Normal</td>\n",
       "      <td>3.5</td>\n",
       "      <td>12</td>\n",
       "      <td>1786</td>\n",
       "    </tr>\n",
       "    <tr>\n",
       "      <th>3</th>\n",
       "      <td>4</td>\n",
       "      <td>70</td>\n",
       "      <td>RL</td>\n",
       "      <td>9550</td>\n",
       "      <td>Pave</td>\n",
       "      <td>IR1</td>\n",
       "      <td>Lvl</td>\n",
       "      <td>AllPub</td>\n",
       "      <td>Corner</td>\n",
       "      <td>Gtl</td>\n",
       "      <td>...</td>\n",
       "      <td>0</td>\n",
       "      <td>0</td>\n",
       "      <td>0</td>\n",
       "      <td>2</td>\n",
       "      <td>2006</td>\n",
       "      <td>WD</td>\n",
       "      <td>Abnorml</td>\n",
       "      <td>2.0</td>\n",
       "      <td>12</td>\n",
       "      <td>1717</td>\n",
       "    </tr>\n",
       "    <tr>\n",
       "      <th>4</th>\n",
       "      <td>5</td>\n",
       "      <td>60</td>\n",
       "      <td>RL</td>\n",
       "      <td>14260</td>\n",
       "      <td>Pave</td>\n",
       "      <td>IR1</td>\n",
       "      <td>Lvl</td>\n",
       "      <td>AllPub</td>\n",
       "      <td>FR2</td>\n",
       "      <td>Gtl</td>\n",
       "      <td>...</td>\n",
       "      <td>0</td>\n",
       "      <td>0</td>\n",
       "      <td>0</td>\n",
       "      <td>12</td>\n",
       "      <td>2008</td>\n",
       "      <td>WD</td>\n",
       "      <td>Normal</td>\n",
       "      <td>3.5</td>\n",
       "      <td>13</td>\n",
       "      <td>2198</td>\n",
       "    </tr>\n",
       "  </tbody>\n",
       "</table>\n",
       "<p>5 rows × 64 columns</p>\n",
       "</div>"
      ],
      "text/plain": [
       "   Id  MSSubClass MSZoning  LotArea Street LotShape LandContour Utilities  \\\n",
       "0   1          60       RL     8450   Pave      Reg         Lvl    AllPub   \n",
       "1   2          20       RL     9600   Pave      Reg         Lvl    AllPub   \n",
       "2   3          60       RL    11250   Pave      IR1         Lvl    AllPub   \n",
       "3   4          70       RL     9550   Pave      IR1         Lvl    AllPub   \n",
       "4   5          60       RL    14260   Pave      IR1         Lvl    AllPub   \n",
       "\n",
       "  LotConfig LandSlope  ... ScreenPorch PoolArea MiscVal MoSold YrSold  \\\n",
       "0    Inside       Gtl  ...           0        0       0      2   2008   \n",
       "1       FR2       Gtl  ...           0        0       0      5   2007   \n",
       "2    Inside       Gtl  ...           0        0       0      9   2008   \n",
       "3    Corner       Gtl  ...           0        0       0      2   2006   \n",
       "4       FR2       Gtl  ...           0        0       0     12   2008   \n",
       "\n",
       "   SaleType  SaleCondition  TotBath  Total_Home_Quality HighQualSF  \n",
       "0        WD         Normal      3.5                  12       1710  \n",
       "1        WD         Normal      2.5                  14       1262  \n",
       "2        WD         Normal      3.5                  12       1786  \n",
       "3        WD        Abnorml      2.0                  12       1717  \n",
       "4        WD         Normal      3.5                  13       2198  \n",
       "\n",
       "[5 rows x 64 columns]"
      ]
     },
     "execution_count": 11,
     "metadata": {},
     "output_type": "execute_result"
    }
   ],
   "source": [
    "X.head()"
   ]
  },
  {
   "cell_type": "markdown",
   "id": "3bfefcf2",
   "metadata": {
    "papermill": {
     "duration": 0.015192,
     "end_time": "2022-10-16T18:23:47.649615",
     "exception": false,
     "start_time": "2022-10-16T18:23:47.634423",
     "status": "completed"
    },
    "tags": []
   },
   "source": [
    "<a id='6'></a>\n",
    "<span style=\"color:pink;font-weight:600;font-size:20px;font-style:serif\">\n",
    "    Split dataset\n",
    "</span>\n",
    "\n",
    "<span style=\"color:grey;font-weight:500;font-size:20px;font-style:serif\">\n",
    "    We need data to build the model and then data to validate the model. For this purpose we split out dataset into a training set and a test set, respectively. So that we get the same split every tim this notebook is run, we will set random_state as a fixed number. This is considered good practice.\n",
    "</span>"
   ]
  },
  {
   "cell_type": "code",
   "execution_count": 12,
   "id": "6d8d631f",
   "metadata": {
    "execution": {
     "iopub.execute_input": "2022-10-16T18:23:47.681863Z",
     "iopub.status.busy": "2022-10-16T18:23:47.681439Z",
     "iopub.status.idle": "2022-10-16T18:23:47.690300Z",
     "shell.execute_reply": "2022-10-16T18:23:47.689107Z"
    },
    "papermill": {
     "duration": 0.027973,
     "end_time": "2022-10-16T18:23:47.692883",
     "exception": false,
     "start_time": "2022-10-16T18:23:47.664910",
     "status": "completed"
    },
    "tags": []
   },
   "outputs": [],
   "source": [
    "# Split into validation and training data\n",
    "X_train, X_test, y_train, y_test = train_test_split(X, y, random_state=1)"
   ]
  },
  {
   "cell_type": "code",
   "execution_count": 13,
   "id": "8a03cfff",
   "metadata": {
    "execution": {
     "iopub.execute_input": "2022-10-16T18:23:47.725767Z",
     "iopub.status.busy": "2022-10-16T18:23:47.724935Z",
     "iopub.status.idle": "2022-10-16T18:23:47.731768Z",
     "shell.execute_reply": "2022-10-16T18:23:47.730985Z"
    },
    "papermill": {
     "duration": 0.025573,
     "end_time": "2022-10-16T18:23:47.733980",
     "exception": false,
     "start_time": "2022-10-16T18:23:47.708407",
     "status": "completed"
    },
    "tags": []
   },
   "outputs": [
    {
     "data": {
      "text/plain": [
       "(365, 64)"
      ]
     },
     "execution_count": 13,
     "metadata": {},
     "output_type": "execute_result"
    }
   ],
   "source": [
    "X_train.shape\n",
    "X_test.shape"
   ]
  },
  {
   "cell_type": "markdown",
   "id": "61184daf",
   "metadata": {
    "papermill": {
     "duration": 0.015117,
     "end_time": "2022-10-16T18:23:47.764727",
     "exception": false,
     "start_time": "2022-10-16T18:23:47.749610",
     "status": "completed"
    },
    "tags": []
   },
   "source": [
    "<a id='7'></a>\n",
    "<span style=\"color:pink;font-weight:600;font-size:20px;font-style:serif\">\n",
    "    One hot encode\n",
    "</span>\n",
    "\n",
    "<span style=\"color:grey;font-weight:500;font-size:20px;font-style:serif\">\n",
    "    In order for a machine learning algorithm to work with your data, it is important that all values are entrerd in a numerical (machine-readable) form. We need to first explore the datatypes present in our dataset. get_dummies from pandas library is a great tool for one hot encoding the features of a tabular dataset, like ours.\n",
    "</span>\n"
   ]
  },
  {
   "cell_type": "code",
   "execution_count": 14,
   "id": "57cef448",
   "metadata": {
    "execution": {
     "iopub.execute_input": "2022-10-16T18:23:47.797640Z",
     "iopub.status.busy": "2022-10-16T18:23:47.797215Z",
     "iopub.status.idle": "2022-10-16T18:23:47.803078Z",
     "shell.execute_reply": "2022-10-16T18:23:47.801951Z"
    },
    "papermill": {
     "duration": 0.024781,
     "end_time": "2022-10-16T18:23:47.805375",
     "exception": false,
     "start_time": "2022-10-16T18:23:47.780594",
     "status": "completed"
    },
    "tags": []
   },
   "outputs": [],
   "source": [
    "def onehotencode(df):\n",
    "    encoded = pd.get_dummies(df)\n",
    "    return encoded"
   ]
  },
  {
   "cell_type": "code",
   "execution_count": 15,
   "id": "a9c7e918",
   "metadata": {
    "execution": {
     "iopub.execute_input": "2022-10-16T18:23:47.838861Z",
     "iopub.status.busy": "2022-10-16T18:23:47.838450Z",
     "iopub.status.idle": "2022-10-16T18:23:47.878663Z",
     "shell.execute_reply": "2022-10-16T18:23:47.877328Z"
    },
    "papermill": {
     "duration": 0.05984,
     "end_time": "2022-10-16T18:23:47.881285",
     "exception": false,
     "start_time": "2022-10-16T18:23:47.821445",
     "status": "completed"
    },
    "tags": []
   },
   "outputs": [
    {
     "data": {
      "text/plain": [
       "(1095, 215)"
      ]
     },
     "execution_count": 15,
     "metadata": {},
     "output_type": "execute_result"
    }
   ],
   "source": [
    "X_train_encoded = onehotencode(X_train)\n",
    "X_train_encoded.shape"
   ]
  },
  {
   "cell_type": "code",
   "execution_count": 16,
   "id": "b23e0da7",
   "metadata": {
    "execution": {
     "iopub.execute_input": "2022-10-16T18:23:47.915728Z",
     "iopub.status.busy": "2022-10-16T18:23:47.914799Z",
     "iopub.status.idle": "2022-10-16T18:23:47.952419Z",
     "shell.execute_reply": "2022-10-16T18:23:47.951160Z"
    },
    "papermill": {
     "duration": 0.057971,
     "end_time": "2022-10-16T18:23:47.955195",
     "exception": false,
     "start_time": "2022-10-16T18:23:47.897224",
     "status": "completed"
    },
    "tags": []
   },
   "outputs": [
    {
     "data": {
      "text/plain": [
       "(365, 195)"
      ]
     },
     "execution_count": 16,
     "metadata": {},
     "output_type": "execute_result"
    }
   ],
   "source": [
    "X_test_encoded = onehotencode(X_test)\n",
    "X_test_encoded.shape"
   ]
  },
  {
   "cell_type": "code",
   "execution_count": 17,
   "id": "b0fa47d8",
   "metadata": {
    "execution": {
     "iopub.execute_input": "2022-10-16T18:23:47.989493Z",
     "iopub.status.busy": "2022-10-16T18:23:47.989116Z",
     "iopub.status.idle": "2022-10-16T18:23:47.996310Z",
     "shell.execute_reply": "2022-10-16T18:23:47.995066Z"
    },
    "papermill": {
     "duration": 0.027714,
     "end_time": "2022-10-16T18:23:47.998875",
     "exception": false,
     "start_time": "2022-10-16T18:23:47.971161",
     "status": "completed"
    },
    "tags": []
   },
   "outputs": [
    {
     "data": {
      "text/plain": [
       "(365,)"
      ]
     },
     "execution_count": 17,
     "metadata": {},
     "output_type": "execute_result"
    }
   ],
   "source": [
    "y_train.shape\n",
    "y_test.shape"
   ]
  },
  {
   "cell_type": "code",
   "execution_count": 18,
   "id": "15c0074e",
   "metadata": {
    "execution": {
     "iopub.execute_input": "2022-10-16T18:23:48.034351Z",
     "iopub.status.busy": "2022-10-16T18:23:48.033409Z",
     "iopub.status.idle": "2022-10-16T18:23:48.046667Z",
     "shell.execute_reply": "2022-10-16T18:23:48.045334Z"
    },
    "papermill": {
     "duration": 0.03353,
     "end_time": "2022-10-16T18:23:48.049556",
     "exception": false,
     "start_time": "2022-10-16T18:23:48.016026",
     "status": "completed"
    },
    "tags": []
   },
   "outputs": [],
   "source": [
    "X_train_encoded_final , X_test_encoded_final = X_train_encoded.align(X_test_encoded, join='inner', axis=1) "
   ]
  },
  {
   "cell_type": "markdown",
   "id": "ebc7d616",
   "metadata": {
    "papermill": {
     "duration": 0.018299,
     "end_time": "2022-10-16T18:23:48.084544",
     "exception": false,
     "start_time": "2022-10-16T18:23:48.066245",
     "status": "completed"
    },
    "tags": []
   },
   "source": [
    "<a id='8'></a>\n",
    "<span style=\"color:pink;font-weight:600;font-size:20px;font-style:serif\">\n",
    "    Feature scaling\n",
    "</span>\n",
    "\n",
    "<span style=\"color:grey;font-weight:500;font-size:20px;font-style:serif\">\n",
    "    We need to bring our feature values within a comparable range, while still maintaining their independence. For this we will use the fit_transform method on the training dataset. This method learns about our data (mean and variance) and then uses this information to transform the data into a zero mean, unit variance range. We use the same information to tranform the test data as well, instead of learning the  test data as well, so that the model still is 'surprised' by the test data (so no-peeking!)\n",
    "</span>"
   ]
  },
  {
   "cell_type": "code",
   "execution_count": 19,
   "id": "7cfc4158",
   "metadata": {
    "execution": {
     "iopub.execute_input": "2022-10-16T18:23:48.118355Z",
     "iopub.status.busy": "2022-10-16T18:23:48.117912Z",
     "iopub.status.idle": "2022-10-16T18:23:48.140242Z",
     "shell.execute_reply": "2022-10-16T18:23:48.139231Z"
    },
    "papermill": {
     "duration": 0.042545,
     "end_time": "2022-10-16T18:23:48.143224",
     "exception": false,
     "start_time": "2022-10-16T18:23:48.100679",
     "status": "completed"
    },
    "tags": []
   },
   "outputs": [],
   "source": [
    "scaler = StandardScaler()\n",
    "X_train_encoded_scaled = scaler.fit_transform(X_train_encoded_final)\n",
    "X_test_encoded_scaled = scaler.transform(X_test_encoded_final)"
   ]
  },
  {
   "cell_type": "code",
   "execution_count": 20,
   "id": "5da85afc",
   "metadata": {
    "execution": {
     "iopub.execute_input": "2022-10-16T18:23:48.178696Z",
     "iopub.status.busy": "2022-10-16T18:23:48.178265Z",
     "iopub.status.idle": "2022-10-16T18:23:48.186078Z",
     "shell.execute_reply": "2022-10-16T18:23:48.184619Z"
    },
    "papermill": {
     "duration": 0.029091,
     "end_time": "2022-10-16T18:23:48.188911",
     "exception": false,
     "start_time": "2022-10-16T18:23:48.159820",
     "status": "completed"
    },
    "tags": []
   },
   "outputs": [
    {
     "data": {
      "text/plain": [
       "(365, 191)"
      ]
     },
     "execution_count": 20,
     "metadata": {},
     "output_type": "execute_result"
    }
   ],
   "source": [
    "X_train_encoded_scaled.shape\n",
    "X_test_encoded_scaled.shape"
   ]
  },
  {
   "cell_type": "markdown",
   "id": "2d364af9",
   "metadata": {
    "papermill": {
     "duration": 0.016195,
     "end_time": "2022-10-16T18:23:48.222137",
     "exception": false,
     "start_time": "2022-10-16T18:23:48.205942",
     "status": "completed"
    },
    "tags": []
   },
   "source": [
    "<span style=\"color:pink;font-weight:600;font-size:16px;font-style:serif\">\n",
    "    Choosing a Machine Learning Model\n",
    "</span>\n",
    "\n",
    "\n",
    "    We choose the machine learning model according to the problem we are trying to solve. Since our data is already labeled (Malignant/Benign), we will use the supervised learning approach. Two different kinds of problems in supervised learning are classification and regression. Since our aim is to categorize the data into malignant or benign, we are dealing with a classification problem.\n",
    "    Here, we will use a logistic regression model.\n",
    "\n",
    "![alt text for screen readers](https://www.frontiersin.org/files/Articles/284242/fnagi-09-00329-HTML/image_m/fnagi-09-00329-g001.jpg)\n",
    "\n",
    "\n",
    "**Source:** Sarica, Cerasa & Quattrone, 2017\n",
    "\n",
    "<span style=\"color:pink;font-weight:600;font-size:16px;font-style:serif\">\n",
    "    What is a Random Forest Regressor?\n",
    "</span>\n",
    "\n",
    "    - Random Forest Regression is a supervised learning algorithm, used for regression tasks. It uses the ensemble learning method, which is a technique that combines predictions from several machine learning algorithms to make a predition, enabling it t make more accurate predtions than a single model.\n",
    "\n",
    "    - For this, a Random Forest constructs several decision trees during model training, and uses the result from all these trees togenerate a strong prediction. This is a very powerful method, however with a caveat. Overfitting can easily occur in a Random Forest model. It is advantageos to test outputs from several values of tree depth to determine the optimal tree depth. Mean absolute error is a useful metric to do this. \n",
    "\n",
    "![alt text for screen readers](https://www.kdnuggets.com/wp-content/uploads/rand-forest-2.jpg \"Credits: kdnuggets.com\")\n"
   ]
  },
  {
   "cell_type": "markdown",
   "id": "66a27f3f",
   "metadata": {
    "papermill": {
     "duration": 0.016026,
     "end_time": "2022-10-16T18:23:48.254589",
     "exception": false,
     "start_time": "2022-10-16T18:23:48.238563",
     "status": "completed"
    },
    "tags": []
   },
   "source": [
    "<a id='9'></a>\n",
    "<span style=\"color:pink;font-weight:600;font-size:25px;font-style:serif\">\n",
    "    Random Forest Regressor\n",
    "</span>\n",
    "\n",
    "[Top](#21)\n"
   ]
  },
  {
   "cell_type": "code",
   "execution_count": 21,
   "id": "5627b92f",
   "metadata": {
    "execution": {
     "iopub.execute_input": "2022-10-16T18:23:48.288468Z",
     "iopub.status.busy": "2022-10-16T18:23:48.288059Z",
     "iopub.status.idle": "2022-10-16T18:23:50.433717Z",
     "shell.execute_reply": "2022-10-16T18:23:50.432695Z"
    },
    "papermill": {
     "duration": 2.165654,
     "end_time": "2022-10-16T18:23:50.436108",
     "exception": false,
     "start_time": "2022-10-16T18:23:48.270454",
     "status": "completed"
    },
    "tags": []
   },
   "outputs": [
    {
     "data": {
      "text/plain": [
       "RandomForestRegressor(random_state=0)"
      ]
     },
     "execution_count": 21,
     "metadata": {},
     "output_type": "execute_result"
    }
   ],
   "source": [
    "# Define a random forest model\n",
    "rf_model = RandomForestRegressor(random_state=0)\n",
    "rf_model.fit(X_train_encoded_scaled, y_train)"
   ]
  },
  {
   "cell_type": "markdown",
   "id": "e5240f1c",
   "metadata": {
    "papermill": {
     "duration": 0.016918,
     "end_time": "2022-10-16T18:23:50.469764",
     "exception": false,
     "start_time": "2022-10-16T18:23:50.452846",
     "status": "completed"
    },
    "tags": []
   },
   "source": [
    "<a id='10'></a>\n",
    "<span style=\"color:pink;font-weight:600;font-size:20px;font-style:serif\">\n",
    "    Performance evaluation\n",
    "</span>\n",
    "\n",
    "<span style=\"color:grey;font-weight:500;font-size:20px;font-style:serif\">\n",
    "    Now that we have our model, it is important to do a basic evaluation, to see how our model is performing. The mean_absolute_error is a simple way to observe this. It calculates the mean absolute error regression loss, using the true values and predicted values of the prediction target, in our case, the final price of the house. Note: The order in which the arguments are provided does not matter.\n",
    "</span>"
   ]
  },
  {
   "cell_type": "code",
   "execution_count": 22,
   "id": "203357b7",
   "metadata": {
    "execution": {
     "iopub.execute_input": "2022-10-16T18:23:50.506049Z",
     "iopub.status.busy": "2022-10-16T18:23:50.505434Z",
     "iopub.status.idle": "2022-10-16T18:23:50.535195Z",
     "shell.execute_reply": "2022-10-16T18:23:50.533207Z"
    },
    "papermill": {
     "duration": 0.052705,
     "end_time": "2022-10-16T18:23:50.539472",
     "exception": false,
     "start_time": "2022-10-16T18:23:50.486767",
     "status": "completed"
    },
    "tags": []
   },
   "outputs": [
    {
     "name": "stdout",
     "output_type": "stream",
     "text": [
      "Validation MAE for Random Forest Model: 15,507\n"
     ]
    }
   ],
   "source": [
    "rf_val_predictions = rf_model.predict(X_test_encoded_scaled)\n",
    "rf_val_mae = mean_absolute_error(rf_val_predictions, y_test)\n",
    "\n",
    "print(\"Validation MAE for Random Forest Model: {:,.0f}\".format(rf_val_mae))"
   ]
  },
  {
   "cell_type": "code",
   "execution_count": 23,
   "id": "41ee1a1b",
   "metadata": {
    "execution": {
     "iopub.execute_input": "2022-10-16T18:23:50.575303Z",
     "iopub.status.busy": "2022-10-16T18:23:50.574891Z",
     "iopub.status.idle": "2022-10-16T18:23:50.583591Z",
     "shell.execute_reply": "2022-10-16T18:23:50.582038Z"
    },
    "papermill": {
     "duration": 0.029927,
     "end_time": "2022-10-16T18:23:50.586406",
     "exception": false,
     "start_time": "2022-10-16T18:23:50.556479",
     "status": "completed"
    },
    "tags": []
   },
   "outputs": [
    {
     "data": {
      "text/plain": [
       "(365,)"
      ]
     },
     "execution_count": 23,
     "metadata": {},
     "output_type": "execute_result"
    }
   ],
   "source": [
    "rf_val_predictions.shape\n",
    "y_test.shape"
   ]
  },
  {
   "cell_type": "markdown",
   "id": "4a707614",
   "metadata": {
    "papermill": {
     "duration": 0.01693,
     "end_time": "2022-10-16T18:23:50.620009",
     "exception": false,
     "start_time": "2022-10-16T18:23:50.603079",
     "status": "completed"
    },
    "tags": []
   },
   "source": [
    "<a id='11'></a>\n",
    "<span style=\"color:pink;font-weight:600;font-size:20px;font-style:serif\">\n",
    "    Train model on all data\n",
    "</span>\n"
   ]
  },
  {
   "cell_type": "code",
   "execution_count": 24,
   "id": "7e30abdb",
   "metadata": {
    "execution": {
     "iopub.execute_input": "2022-10-16T18:23:50.655503Z",
     "iopub.status.busy": "2022-10-16T18:23:50.655103Z",
     "iopub.status.idle": "2022-10-16T18:23:53.701214Z",
     "shell.execute_reply": "2022-10-16T18:23:53.700011Z"
    },
    "papermill": {
     "duration": 3.067222,
     "end_time": "2022-10-16T18:23:53.704047",
     "exception": false,
     "start_time": "2022-10-16T18:23:50.636825",
     "status": "completed"
    },
    "tags": []
   },
   "outputs": [
    {
     "data": {
      "text/plain": [
       "RandomForestRegressor(random_state=0)"
      ]
     },
     "execution_count": 24,
     "metadata": {},
     "output_type": "execute_result"
    }
   ],
   "source": [
    "# To improve accuracy, create a new Random Forest model which you will train on all training data\n",
    "rf_model_on_full_data = RandomForestRegressor(random_state=0)\n",
    "\n",
    "# fit rf_model_on_full_data on all data from the training data\n",
    "X_encoded = onehotencode(X)\n",
    "scaler_2 = StandardScaler()\n",
    "X_encoded_scaled = scaler.fit_transform(X_encoded)\n",
    "\n",
    "rf_model_on_full_data.fit(X_encoded_scaled,y)"
   ]
  },
  {
   "cell_type": "markdown",
   "id": "75e1a3f6",
   "metadata": {
    "papermill": {
     "duration": 0.019018,
     "end_time": "2022-10-16T18:23:53.740394",
     "exception": false,
     "start_time": "2022-10-16T18:23:53.721376",
     "status": "completed"
    },
    "tags": []
   },
   "source": [
    "<a id='12'></a>\n",
    "<span style=\"color:pink;font-weight:600;font-size:25px;font-style:serif\">\n",
    "    Load raw data for prediction\n",
    "</span>\n",
    "\n",
    "<span style=\"color:grey;font-weight:500;font-size:20px;font-style:serif\">\n",
    "This data will be refered to as test data from now on, not to be consfused with validation data used to assess model performance after model training\n",
    "</span>"
   ]
  },
  {
   "cell_type": "code",
   "execution_count": 25,
   "id": "9b0efd07",
   "metadata": {
    "execution": {
     "iopub.execute_input": "2022-10-16T18:23:53.780041Z",
     "iopub.status.busy": "2022-10-16T18:23:53.778728Z",
     "iopub.status.idle": "2022-10-16T18:23:53.819770Z",
     "shell.execute_reply": "2022-10-16T18:23:53.818429Z"
    },
    "papermill": {
     "duration": 0.063932,
     "end_time": "2022-10-16T18:23:53.822662",
     "exception": false,
     "start_time": "2022-10-16T18:23:53.758730",
     "status": "completed"
    },
    "tags": []
   },
   "outputs": [
    {
     "data": {
      "text/plain": [
       "(1459, 80)"
      ]
     },
     "execution_count": 25,
     "metadata": {},
     "output_type": "execute_result"
    }
   ],
   "source": [
    "# path to file you will use for predictions\n",
    "test_data_path = '../input/test.csv'\n",
    "\n",
    "# read test data file using pandas\n",
    "test_data = pd.read_csv(test_data_path)\n",
    "test_data.shape"
   ]
  },
  {
   "cell_type": "markdown",
   "id": "ae350422",
   "metadata": {
    "papermill": {
     "duration": 0.017333,
     "end_time": "2022-10-16T18:23:53.857978",
     "exception": false,
     "start_time": "2022-10-16T18:23:53.840645",
     "status": "completed"
    },
    "tags": []
   },
   "source": [
    "<a id='13'></a>\n",
    "<span style=\"color:pink;font-weight:600;font-size:25px;font-style:serif\">\n",
    "    Test-data preprocessing\n",
    "</span>\n",
    "\n",
    "<span style=\"color:grey;font-weight:500;font-size:20px;font-style:serif\">\n",
    "Test data must match the structure that the random forest model is expecting\n",
    "</span>"
   ]
  },
  {
   "cell_type": "code",
   "execution_count": 26,
   "id": "c492121d",
   "metadata": {
    "execution": {
     "iopub.execute_input": "2022-10-16T18:23:53.892545Z",
     "iopub.status.busy": "2022-10-16T18:23:53.892181Z",
     "iopub.status.idle": "2022-10-16T18:23:53.921334Z",
     "shell.execute_reply": "2022-10-16T18:23:53.920042Z"
    },
    "papermill": {
     "duration": 0.049447,
     "end_time": "2022-10-16T18:23:53.923853",
     "exception": false,
     "start_time": "2022-10-16T18:23:53.874406",
     "status": "completed"
    },
    "tags": []
   },
   "outputs": [
    {
     "data": {
      "text/html": [
       "<div>\n",
       "<style scoped>\n",
       "    .dataframe tbody tr th:only-of-type {\n",
       "        vertical-align: middle;\n",
       "    }\n",
       "\n",
       "    .dataframe tbody tr th {\n",
       "        vertical-align: top;\n",
       "    }\n",
       "\n",
       "    .dataframe thead th {\n",
       "        text-align: right;\n",
       "    }\n",
       "</style>\n",
       "<table border=\"1\" class=\"dataframe\">\n",
       "  <thead>\n",
       "    <tr style=\"text-align: right;\">\n",
       "      <th></th>\n",
       "      <th>Id</th>\n",
       "      <th>MSSubClass</th>\n",
       "      <th>MSZoning</th>\n",
       "      <th>LotFrontage</th>\n",
       "      <th>LotArea</th>\n",
       "      <th>Street</th>\n",
       "      <th>Alley</th>\n",
       "      <th>LotShape</th>\n",
       "      <th>LandContour</th>\n",
       "      <th>Utilities</th>\n",
       "      <th>...</th>\n",
       "      <th>ScreenPorch</th>\n",
       "      <th>PoolArea</th>\n",
       "      <th>PoolQC</th>\n",
       "      <th>Fence</th>\n",
       "      <th>MiscFeature</th>\n",
       "      <th>MiscVal</th>\n",
       "      <th>MoSold</th>\n",
       "      <th>YrSold</th>\n",
       "      <th>SaleType</th>\n",
       "      <th>SaleCondition</th>\n",
       "    </tr>\n",
       "  </thead>\n",
       "  <tbody>\n",
       "    <tr>\n",
       "      <th>0</th>\n",
       "      <td>1461</td>\n",
       "      <td>20</td>\n",
       "      <td>RH</td>\n",
       "      <td>80.0</td>\n",
       "      <td>11622</td>\n",
       "      <td>Pave</td>\n",
       "      <td>NaN</td>\n",
       "      <td>Reg</td>\n",
       "      <td>Lvl</td>\n",
       "      <td>AllPub</td>\n",
       "      <td>...</td>\n",
       "      <td>120</td>\n",
       "      <td>0</td>\n",
       "      <td>NaN</td>\n",
       "      <td>MnPrv</td>\n",
       "      <td>NaN</td>\n",
       "      <td>0</td>\n",
       "      <td>6</td>\n",
       "      <td>2010</td>\n",
       "      <td>WD</td>\n",
       "      <td>Normal</td>\n",
       "    </tr>\n",
       "    <tr>\n",
       "      <th>1</th>\n",
       "      <td>1462</td>\n",
       "      <td>20</td>\n",
       "      <td>RL</td>\n",
       "      <td>81.0</td>\n",
       "      <td>14267</td>\n",
       "      <td>Pave</td>\n",
       "      <td>NaN</td>\n",
       "      <td>IR1</td>\n",
       "      <td>Lvl</td>\n",
       "      <td>AllPub</td>\n",
       "      <td>...</td>\n",
       "      <td>0</td>\n",
       "      <td>0</td>\n",
       "      <td>NaN</td>\n",
       "      <td>NaN</td>\n",
       "      <td>Gar2</td>\n",
       "      <td>12500</td>\n",
       "      <td>6</td>\n",
       "      <td>2010</td>\n",
       "      <td>WD</td>\n",
       "      <td>Normal</td>\n",
       "    </tr>\n",
       "    <tr>\n",
       "      <th>2</th>\n",
       "      <td>1463</td>\n",
       "      <td>60</td>\n",
       "      <td>RL</td>\n",
       "      <td>74.0</td>\n",
       "      <td>13830</td>\n",
       "      <td>Pave</td>\n",
       "      <td>NaN</td>\n",
       "      <td>IR1</td>\n",
       "      <td>Lvl</td>\n",
       "      <td>AllPub</td>\n",
       "      <td>...</td>\n",
       "      <td>0</td>\n",
       "      <td>0</td>\n",
       "      <td>NaN</td>\n",
       "      <td>MnPrv</td>\n",
       "      <td>NaN</td>\n",
       "      <td>0</td>\n",
       "      <td>3</td>\n",
       "      <td>2010</td>\n",
       "      <td>WD</td>\n",
       "      <td>Normal</td>\n",
       "    </tr>\n",
       "    <tr>\n",
       "      <th>3</th>\n",
       "      <td>1464</td>\n",
       "      <td>60</td>\n",
       "      <td>RL</td>\n",
       "      <td>78.0</td>\n",
       "      <td>9978</td>\n",
       "      <td>Pave</td>\n",
       "      <td>NaN</td>\n",
       "      <td>IR1</td>\n",
       "      <td>Lvl</td>\n",
       "      <td>AllPub</td>\n",
       "      <td>...</td>\n",
       "      <td>0</td>\n",
       "      <td>0</td>\n",
       "      <td>NaN</td>\n",
       "      <td>NaN</td>\n",
       "      <td>NaN</td>\n",
       "      <td>0</td>\n",
       "      <td>6</td>\n",
       "      <td>2010</td>\n",
       "      <td>WD</td>\n",
       "      <td>Normal</td>\n",
       "    </tr>\n",
       "    <tr>\n",
       "      <th>4</th>\n",
       "      <td>1465</td>\n",
       "      <td>120</td>\n",
       "      <td>RL</td>\n",
       "      <td>43.0</td>\n",
       "      <td>5005</td>\n",
       "      <td>Pave</td>\n",
       "      <td>NaN</td>\n",
       "      <td>IR1</td>\n",
       "      <td>HLS</td>\n",
       "      <td>AllPub</td>\n",
       "      <td>...</td>\n",
       "      <td>144</td>\n",
       "      <td>0</td>\n",
       "      <td>NaN</td>\n",
       "      <td>NaN</td>\n",
       "      <td>NaN</td>\n",
       "      <td>0</td>\n",
       "      <td>1</td>\n",
       "      <td>2010</td>\n",
       "      <td>WD</td>\n",
       "      <td>Normal</td>\n",
       "    </tr>\n",
       "  </tbody>\n",
       "</table>\n",
       "<p>5 rows × 80 columns</p>\n",
       "</div>"
      ],
      "text/plain": [
       "     Id  MSSubClass MSZoning  LotFrontage  LotArea Street Alley LotShape  \\\n",
       "0  1461          20       RH         80.0    11622   Pave   NaN      Reg   \n",
       "1  1462          20       RL         81.0    14267   Pave   NaN      IR1   \n",
       "2  1463          60       RL         74.0    13830   Pave   NaN      IR1   \n",
       "3  1464          60       RL         78.0     9978   Pave   NaN      IR1   \n",
       "4  1465         120       RL         43.0     5005   Pave   NaN      IR1   \n",
       "\n",
       "  LandContour Utilities  ... ScreenPorch PoolArea PoolQC  Fence MiscFeature  \\\n",
       "0         Lvl    AllPub  ...         120        0    NaN  MnPrv         NaN   \n",
       "1         Lvl    AllPub  ...           0        0    NaN    NaN        Gar2   \n",
       "2         Lvl    AllPub  ...           0        0    NaN  MnPrv         NaN   \n",
       "3         Lvl    AllPub  ...           0        0    NaN    NaN         NaN   \n",
       "4         HLS    AllPub  ...         144        0    NaN    NaN         NaN   \n",
       "\n",
       "  MiscVal MoSold  YrSold  SaleType  SaleCondition  \n",
       "0       0      6    2010        WD         Normal  \n",
       "1   12500      6    2010        WD         Normal  \n",
       "2       0      3    2010        WD         Normal  \n",
       "3       0      6    2010        WD         Normal  \n",
       "4       0      1    2010        WD         Normal  \n",
       "\n",
       "[5 rows x 80 columns]"
      ]
     },
     "execution_count": 26,
     "metadata": {},
     "output_type": "execute_result"
    }
   ],
   "source": [
    "test_data.head()"
   ]
  },
  {
   "cell_type": "markdown",
   "id": "c7d6d77e",
   "metadata": {
    "papermill": {
     "duration": 0.016803,
     "end_time": "2022-10-16T18:23:53.958518",
     "exception": false,
     "start_time": "2022-10-16T18:23:53.941715",
     "status": "completed"
    },
    "tags": []
   },
   "source": [
    "<a id='14'></a>\n",
    "<span style=\"color:pink;font-weight:600;font-size:20px;font-style:serif\">\n",
    "    Feature match with training data\n",
    "</span>\n",
    "\n",
    "<span style=\"color:grey;font-weight:500;font-size:20px;font-style:serif\">\n",
    "Training data and test data must have the same features (columns)\n",
    "    </span>\n",
    "    \n",
    "    \n",
    "\n",
    "\n"
   ]
  },
  {
   "cell_type": "code",
   "execution_count": 27,
   "id": "d50e89ce",
   "metadata": {
    "execution": {
     "iopub.execute_input": "2022-10-16T18:23:53.997584Z",
     "iopub.status.busy": "2022-10-16T18:23:53.996785Z",
     "iopub.status.idle": "2022-10-16T18:23:54.006337Z",
     "shell.execute_reply": "2022-10-16T18:23:54.004947Z"
    },
    "papermill": {
     "duration": 0.031207,
     "end_time": "2022-10-16T18:23:54.009451",
     "exception": false,
     "start_time": "2022-10-16T18:23:53.978244",
     "status": "completed"
    },
    "tags": []
   },
   "outputs": [
    {
     "data": {
      "text/plain": [
       "(1459, 61)"
      ]
     },
     "execution_count": 27,
     "metadata": {},
     "output_type": "execute_result"
    }
   ],
   "source": [
    "test_data = test_data[corr_cols]\n",
    "test_data.shape"
   ]
  },
  {
   "cell_type": "code",
   "execution_count": 28,
   "id": "38fe9bbc",
   "metadata": {
    "execution": {
     "iopub.execute_input": "2022-10-16T18:23:54.047297Z",
     "iopub.status.busy": "2022-10-16T18:23:54.046623Z",
     "iopub.status.idle": "2022-10-16T18:23:54.072033Z",
     "shell.execute_reply": "2022-10-16T18:23:54.070731Z"
    },
    "papermill": {
     "duration": 0.048032,
     "end_time": "2022-10-16T18:23:54.074427",
     "exception": false,
     "start_time": "2022-10-16T18:23:54.026395",
     "status": "completed"
    },
    "tags": []
   },
   "outputs": [
    {
     "data": {
      "text/html": [
       "<div>\n",
       "<style scoped>\n",
       "    .dataframe tbody tr th:only-of-type {\n",
       "        vertical-align: middle;\n",
       "    }\n",
       "\n",
       "    .dataframe tbody tr th {\n",
       "        vertical-align: top;\n",
       "    }\n",
       "\n",
       "    .dataframe thead th {\n",
       "        text-align: right;\n",
       "    }\n",
       "</style>\n",
       "<table border=\"1\" class=\"dataframe\">\n",
       "  <thead>\n",
       "    <tr style=\"text-align: right;\">\n",
       "      <th></th>\n",
       "      <th>Id</th>\n",
       "      <th>MSSubClass</th>\n",
       "      <th>MSZoning</th>\n",
       "      <th>LotArea</th>\n",
       "      <th>Street</th>\n",
       "      <th>LotShape</th>\n",
       "      <th>LandContour</th>\n",
       "      <th>Utilities</th>\n",
       "      <th>LotConfig</th>\n",
       "      <th>LandSlope</th>\n",
       "      <th>...</th>\n",
       "      <th>OpenPorchSF</th>\n",
       "      <th>EnclosedPorch</th>\n",
       "      <th>3SsnPorch</th>\n",
       "      <th>ScreenPorch</th>\n",
       "      <th>PoolArea</th>\n",
       "      <th>MiscVal</th>\n",
       "      <th>MoSold</th>\n",
       "      <th>YrSold</th>\n",
       "      <th>SaleType</th>\n",
       "      <th>SaleCondition</th>\n",
       "    </tr>\n",
       "  </thead>\n",
       "  <tbody>\n",
       "    <tr>\n",
       "      <th>0</th>\n",
       "      <td>1461</td>\n",
       "      <td>20</td>\n",
       "      <td>RH</td>\n",
       "      <td>11622</td>\n",
       "      <td>Pave</td>\n",
       "      <td>Reg</td>\n",
       "      <td>Lvl</td>\n",
       "      <td>AllPub</td>\n",
       "      <td>Inside</td>\n",
       "      <td>Gtl</td>\n",
       "      <td>...</td>\n",
       "      <td>0</td>\n",
       "      <td>0</td>\n",
       "      <td>0</td>\n",
       "      <td>120</td>\n",
       "      <td>0</td>\n",
       "      <td>0</td>\n",
       "      <td>6</td>\n",
       "      <td>2010</td>\n",
       "      <td>WD</td>\n",
       "      <td>Normal</td>\n",
       "    </tr>\n",
       "    <tr>\n",
       "      <th>1</th>\n",
       "      <td>1462</td>\n",
       "      <td>20</td>\n",
       "      <td>RL</td>\n",
       "      <td>14267</td>\n",
       "      <td>Pave</td>\n",
       "      <td>IR1</td>\n",
       "      <td>Lvl</td>\n",
       "      <td>AllPub</td>\n",
       "      <td>Corner</td>\n",
       "      <td>Gtl</td>\n",
       "      <td>...</td>\n",
       "      <td>36</td>\n",
       "      <td>0</td>\n",
       "      <td>0</td>\n",
       "      <td>0</td>\n",
       "      <td>0</td>\n",
       "      <td>12500</td>\n",
       "      <td>6</td>\n",
       "      <td>2010</td>\n",
       "      <td>WD</td>\n",
       "      <td>Normal</td>\n",
       "    </tr>\n",
       "    <tr>\n",
       "      <th>2</th>\n",
       "      <td>1463</td>\n",
       "      <td>60</td>\n",
       "      <td>RL</td>\n",
       "      <td>13830</td>\n",
       "      <td>Pave</td>\n",
       "      <td>IR1</td>\n",
       "      <td>Lvl</td>\n",
       "      <td>AllPub</td>\n",
       "      <td>Inside</td>\n",
       "      <td>Gtl</td>\n",
       "      <td>...</td>\n",
       "      <td>34</td>\n",
       "      <td>0</td>\n",
       "      <td>0</td>\n",
       "      <td>0</td>\n",
       "      <td>0</td>\n",
       "      <td>0</td>\n",
       "      <td>3</td>\n",
       "      <td>2010</td>\n",
       "      <td>WD</td>\n",
       "      <td>Normal</td>\n",
       "    </tr>\n",
       "    <tr>\n",
       "      <th>3</th>\n",
       "      <td>1464</td>\n",
       "      <td>60</td>\n",
       "      <td>RL</td>\n",
       "      <td>9978</td>\n",
       "      <td>Pave</td>\n",
       "      <td>IR1</td>\n",
       "      <td>Lvl</td>\n",
       "      <td>AllPub</td>\n",
       "      <td>Inside</td>\n",
       "      <td>Gtl</td>\n",
       "      <td>...</td>\n",
       "      <td>36</td>\n",
       "      <td>0</td>\n",
       "      <td>0</td>\n",
       "      <td>0</td>\n",
       "      <td>0</td>\n",
       "      <td>0</td>\n",
       "      <td>6</td>\n",
       "      <td>2010</td>\n",
       "      <td>WD</td>\n",
       "      <td>Normal</td>\n",
       "    </tr>\n",
       "    <tr>\n",
       "      <th>4</th>\n",
       "      <td>1465</td>\n",
       "      <td>120</td>\n",
       "      <td>RL</td>\n",
       "      <td>5005</td>\n",
       "      <td>Pave</td>\n",
       "      <td>IR1</td>\n",
       "      <td>HLS</td>\n",
       "      <td>AllPub</td>\n",
       "      <td>Inside</td>\n",
       "      <td>Gtl</td>\n",
       "      <td>...</td>\n",
       "      <td>82</td>\n",
       "      <td>0</td>\n",
       "      <td>0</td>\n",
       "      <td>144</td>\n",
       "      <td>0</td>\n",
       "      <td>0</td>\n",
       "      <td>1</td>\n",
       "      <td>2010</td>\n",
       "      <td>WD</td>\n",
       "      <td>Normal</td>\n",
       "    </tr>\n",
       "  </tbody>\n",
       "</table>\n",
       "<p>5 rows × 61 columns</p>\n",
       "</div>"
      ],
      "text/plain": [
       "     Id  MSSubClass MSZoning  LotArea Street LotShape LandContour Utilities  \\\n",
       "0  1461          20       RH    11622   Pave      Reg         Lvl    AllPub   \n",
       "1  1462          20       RL    14267   Pave      IR1         Lvl    AllPub   \n",
       "2  1463          60       RL    13830   Pave      IR1         Lvl    AllPub   \n",
       "3  1464          60       RL     9978   Pave      IR1         Lvl    AllPub   \n",
       "4  1465         120       RL     5005   Pave      IR1         HLS    AllPub   \n",
       "\n",
       "  LotConfig LandSlope  ... OpenPorchSF EnclosedPorch 3SsnPorch ScreenPorch  \\\n",
       "0    Inside       Gtl  ...           0             0         0         120   \n",
       "1    Corner       Gtl  ...          36             0         0           0   \n",
       "2    Inside       Gtl  ...          34             0         0           0   \n",
       "3    Inside       Gtl  ...          36             0         0           0   \n",
       "4    Inside       Gtl  ...          82             0         0         144   \n",
       "\n",
       "  PoolArea  MiscVal  MoSold  YrSold  SaleType SaleCondition  \n",
       "0        0        0       6    2010        WD        Normal  \n",
       "1        0    12500       6    2010        WD        Normal  \n",
       "2        0        0       3    2010        WD        Normal  \n",
       "3        0        0       6    2010        WD        Normal  \n",
       "4        0        0       1    2010        WD        Normal  \n",
       "\n",
       "[5 rows x 61 columns]"
      ]
     },
     "execution_count": 28,
     "metadata": {},
     "output_type": "execute_result"
    }
   ],
   "source": [
    "test_data.head()"
   ]
  },
  {
   "cell_type": "markdown",
   "id": "8ac231c1",
   "metadata": {
    "papermill": {
     "duration": 0.017433,
     "end_time": "2022-10-16T18:23:54.109537",
     "exception": false,
     "start_time": "2022-10-16T18:23:54.092104",
     "status": "completed"
    },
    "tags": []
   },
   "source": [
    "<a id='15'></a>\n",
    "<span style=\"color:pink;font-weight:600;font-size:20px;font-style:serif\">\n",
    "    Featre engineering\n",
    "</span>\n"
   ]
  },
  {
   "cell_type": "code",
   "execution_count": 29,
   "id": "64a163f3",
   "metadata": {
    "execution": {
     "iopub.execute_input": "2022-10-16T18:23:54.145893Z",
     "iopub.status.busy": "2022-10-16T18:23:54.145244Z",
     "iopub.status.idle": "2022-10-16T18:23:54.155488Z",
     "shell.execute_reply": "2022-10-16T18:23:54.154250Z"
    },
    "papermill": {
     "duration": 0.031755,
     "end_time": "2022-10-16T18:23:54.158513",
     "exception": false,
     "start_time": "2022-10-16T18:23:54.126758",
     "status": "completed"
    },
    "tags": []
   },
   "outputs": [
    {
     "data": {
      "text/plain": [
       "(1459, 64)"
      ]
     },
     "execution_count": 29,
     "metadata": {},
     "output_type": "execute_result"
    }
   ],
   "source": [
    "test_data = create_extra_features(test_data)\n",
    "test_data.shape"
   ]
  },
  {
   "cell_type": "markdown",
   "id": "80612622",
   "metadata": {
    "papermill": {
     "duration": 0.017668,
     "end_time": "2022-10-16T18:23:54.194719",
     "exception": false,
     "start_time": "2022-10-16T18:23:54.177051",
     "status": "completed"
    },
    "tags": []
   },
   "source": [
    "<a id='16'></a>\n",
    "<span style=\"color:pink;font-weight:600;font-size:20px;font-style:serif\">\n",
    "    Replace null values\n",
    "</span>\n"
   ]
  },
  {
   "cell_type": "code",
   "execution_count": 30,
   "id": "c32f323c",
   "metadata": {
    "execution": {
     "iopub.execute_input": "2022-10-16T18:23:54.234744Z",
     "iopub.status.busy": "2022-10-16T18:23:54.234348Z",
     "iopub.status.idle": "2022-10-16T18:23:54.249358Z",
     "shell.execute_reply": "2022-10-16T18:23:54.247947Z"
    },
    "papermill": {
     "duration": 0.038711,
     "end_time": "2022-10-16T18:23:54.252259",
     "exception": false,
     "start_time": "2022-10-16T18:23:54.213548",
     "status": "completed"
    },
    "tags": []
   },
   "outputs": [
    {
     "data": {
      "text/plain": [
       "Id                    0\n",
       "MSSubClass            0\n",
       "MSZoning              4\n",
       "LotArea               0\n",
       "Street                0\n",
       "                     ..\n",
       "SaleType              1\n",
       "SaleCondition         0\n",
       "TotBath               2\n",
       "Total_Home_Quality    0\n",
       "HighQualSF            0\n",
       "Length: 64, dtype: int64"
      ]
     },
     "execution_count": 30,
     "metadata": {},
     "output_type": "execute_result"
    }
   ],
   "source": [
    "test_data.isna().sum()"
   ]
  },
  {
   "cell_type": "code",
   "execution_count": 31,
   "id": "8f4479dc",
   "metadata": {
    "execution": {
     "iopub.execute_input": "2022-10-16T18:23:54.289407Z",
     "iopub.status.busy": "2022-10-16T18:23:54.289007Z",
     "iopub.status.idle": "2022-10-16T18:23:54.309845Z",
     "shell.execute_reply": "2022-10-16T18:23:54.308985Z"
    },
    "papermill": {
     "duration": 0.042279,
     "end_time": "2022-10-16T18:23:54.312119",
     "exception": false,
     "start_time": "2022-10-16T18:23:54.269840",
     "status": "completed"
    },
    "tags": []
   },
   "outputs": [
    {
     "data": {
      "text/plain": [
       "Id                    0\n",
       "MSSubClass            0\n",
       "MSZoning              0\n",
       "LotArea               0\n",
       "Street                0\n",
       "                     ..\n",
       "SaleType              0\n",
       "SaleCondition         0\n",
       "TotBath               0\n",
       "Total_Home_Quality    0\n",
       "HighQualSF            0\n",
       "Length: 64, dtype: int64"
      ]
     },
     "execution_count": 31,
     "metadata": {},
     "output_type": "execute_result"
    }
   ],
   "source": [
    "test_data = test_data.fillna(0)           \n",
    "test_data.isna().sum()"
   ]
  },
  {
   "cell_type": "markdown",
   "id": "c7ef5e7d",
   "metadata": {
    "papermill": {
     "duration": 0.01796,
     "end_time": "2022-10-16T18:23:54.348274",
     "exception": false,
     "start_time": "2022-10-16T18:23:54.330314",
     "status": "completed"
    },
    "tags": []
   },
   "source": [
    "<a id='17'></a>\n",
    "<span style=\"color:pink;font-weight:600;font-size:20px;font-style:serif\">\n",
    "    One hot encode\n",
    "</span>\n"
   ]
  },
  {
   "cell_type": "code",
   "execution_count": 32,
   "id": "b0bb401c",
   "metadata": {
    "execution": {
     "iopub.execute_input": "2022-10-16T18:23:54.385637Z",
     "iopub.status.busy": "2022-10-16T18:23:54.384318Z",
     "iopub.status.idle": "2022-10-16T18:23:54.421739Z",
     "shell.execute_reply": "2022-10-16T18:23:54.420479Z"
    },
    "papermill": {
     "duration": 0.058927,
     "end_time": "2022-10-16T18:23:54.424543",
     "exception": false,
     "start_time": "2022-10-16T18:23:54.365616",
     "status": "completed"
    },
    "tags": []
   },
   "outputs": [],
   "source": [
    "test_data = pd.get_dummies(test_data)"
   ]
  },
  {
   "cell_type": "code",
   "execution_count": 33,
   "id": "3dc6eb0d",
   "metadata": {
    "execution": {
     "iopub.execute_input": "2022-10-16T18:23:54.462255Z",
     "iopub.status.busy": "2022-10-16T18:23:54.461826Z",
     "iopub.status.idle": "2022-10-16T18:23:54.468708Z",
     "shell.execute_reply": "2022-10-16T18:23:54.467341Z"
    },
    "papermill": {
     "duration": 0.029067,
     "end_time": "2022-10-16T18:23:54.471566",
     "exception": false,
     "start_time": "2022-10-16T18:23:54.442499",
     "status": "completed"
    },
    "tags": []
   },
   "outputs": [
    {
     "data": {
      "text/plain": [
       "(1459, 212)"
      ]
     },
     "execution_count": 33,
     "metadata": {},
     "output_type": "execute_result"
    }
   ],
   "source": [
    "test_data.shape"
   ]
  },
  {
   "cell_type": "code",
   "execution_count": 34,
   "id": "0e123e87",
   "metadata": {
    "execution": {
     "iopub.execute_input": "2022-10-16T18:23:54.509558Z",
     "iopub.status.busy": "2022-10-16T18:23:54.509184Z",
     "iopub.status.idle": "2022-10-16T18:23:54.516637Z",
     "shell.execute_reply": "2022-10-16T18:23:54.515165Z"
    },
    "papermill": {
     "duration": 0.029225,
     "end_time": "2022-10-16T18:23:54.518912",
     "exception": false,
     "start_time": "2022-10-16T18:23:54.489687",
     "status": "completed"
    },
    "tags": []
   },
   "outputs": [
    {
     "data": {
      "text/plain": [
       "(1460, 219)"
      ]
     },
     "execution_count": 34,
     "metadata": {},
     "output_type": "execute_result"
    }
   ],
   "source": [
    "X_encoded.shape"
   ]
  },
  {
   "cell_type": "code",
   "execution_count": 35,
   "id": "68c505fa",
   "metadata": {
    "execution": {
     "iopub.execute_input": "2022-10-16T18:23:54.557656Z",
     "iopub.status.busy": "2022-10-16T18:23:54.556239Z",
     "iopub.status.idle": "2022-10-16T18:23:54.566760Z",
     "shell.execute_reply": "2022-10-16T18:23:54.565541Z"
    },
    "papermill": {
     "duration": 0.03267,
     "end_time": "2022-10-16T18:23:54.569881",
     "exception": false,
     "start_time": "2022-10-16T18:23:54.537211",
     "status": "completed"
    },
    "tags": []
   },
   "outputs": [],
   "source": [
    "final_train, final_test = X_encoded.align(test_data, join='left', axis=1, fill_value=0)  # inner join"
   ]
  },
  {
   "cell_type": "code",
   "execution_count": 36,
   "id": "c5cc3810",
   "metadata": {
    "execution": {
     "iopub.execute_input": "2022-10-16T18:23:54.608825Z",
     "iopub.status.busy": "2022-10-16T18:23:54.608427Z",
     "iopub.status.idle": "2022-10-16T18:23:54.614949Z",
     "shell.execute_reply": "2022-10-16T18:23:54.613788Z"
    },
    "papermill": {
     "duration": 0.029953,
     "end_time": "2022-10-16T18:23:54.617624",
     "exception": false,
     "start_time": "2022-10-16T18:23:54.587671",
     "status": "completed"
    },
    "tags": []
   },
   "outputs": [
    {
     "data": {
      "text/plain": [
       "(1459, 219)"
      ]
     },
     "execution_count": 36,
     "metadata": {},
     "output_type": "execute_result"
    }
   ],
   "source": [
    "final_test.shape"
   ]
  },
  {
   "cell_type": "code",
   "execution_count": 37,
   "id": "0c8711bc",
   "metadata": {
    "execution": {
     "iopub.execute_input": "2022-10-16T18:23:54.658577Z",
     "iopub.status.busy": "2022-10-16T18:23:54.658174Z",
     "iopub.status.idle": "2022-10-16T18:23:54.665165Z",
     "shell.execute_reply": "2022-10-16T18:23:54.664002Z"
    },
    "papermill": {
     "duration": 0.031373,
     "end_time": "2022-10-16T18:23:54.667685",
     "exception": false,
     "start_time": "2022-10-16T18:23:54.636312",
     "status": "completed"
    },
    "tags": []
   },
   "outputs": [
    {
     "data": {
      "text/plain": [
       "(1460, 219)"
      ]
     },
     "execution_count": 37,
     "metadata": {},
     "output_type": "execute_result"
    }
   ],
   "source": [
    "final_train.shape"
   ]
  },
  {
   "cell_type": "markdown",
   "id": "fd00d870",
   "metadata": {
    "papermill": {
     "duration": 0.017647,
     "end_time": "2022-10-16T18:23:54.703540",
     "exception": false,
     "start_time": "2022-10-16T18:23:54.685893",
     "status": "completed"
    },
    "tags": []
   },
   "source": [
    "<a id='18'></a>\n",
    "<span style=\"color:pink;font-weight:600;font-size:20px;font-style:serif\">\n",
    "    Feature scaling\n",
    "</span>\n"
   ]
  },
  {
   "cell_type": "code",
   "execution_count": 38,
   "id": "3323be43",
   "metadata": {
    "execution": {
     "iopub.execute_input": "2022-10-16T18:23:54.742649Z",
     "iopub.status.busy": "2022-10-16T18:23:54.742261Z",
     "iopub.status.idle": "2022-10-16T18:23:54.761439Z",
     "shell.execute_reply": "2022-10-16T18:23:54.760491Z"
    },
    "papermill": {
     "duration": 0.04212,
     "end_time": "2022-10-16T18:23:54.763807",
     "exception": false,
     "start_time": "2022-10-16T18:23:54.721687",
     "status": "completed"
    },
    "tags": []
   },
   "outputs": [
    {
     "data": {
      "text/plain": [
       "(1459, 219)"
      ]
     },
     "execution_count": 38,
     "metadata": {},
     "output_type": "execute_result"
    }
   ],
   "source": [
    "final_test_scaled = scaler.transform(final_test)\n",
    "final_test_scaled.shape"
   ]
  },
  {
   "cell_type": "code",
   "execution_count": 39,
   "id": "a79a17e6",
   "metadata": {
    "execution": {
     "iopub.execute_input": "2022-10-16T18:23:54.802089Z",
     "iopub.status.busy": "2022-10-16T18:23:54.801646Z",
     "iopub.status.idle": "2022-10-16T18:23:54.808615Z",
     "shell.execute_reply": "2022-10-16T18:23:54.807515Z"
    },
    "papermill": {
     "duration": 0.029141,
     "end_time": "2022-10-16T18:23:54.811128",
     "exception": false,
     "start_time": "2022-10-16T18:23:54.781987",
     "status": "completed"
    },
    "tags": []
   },
   "outputs": [
    {
     "data": {
      "text/plain": [
       "(1459, 219)"
      ]
     },
     "execution_count": 39,
     "metadata": {},
     "output_type": "execute_result"
    }
   ],
   "source": [
    "final_test_scaled.shape"
   ]
  },
  {
   "cell_type": "markdown",
   "id": "d0737fd3",
   "metadata": {
    "papermill": {
     "duration": 0.018246,
     "end_time": "2022-10-16T18:23:54.847636",
     "exception": false,
     "start_time": "2022-10-16T18:23:54.829390",
     "status": "completed"
    },
    "tags": []
   },
   "source": [
    "<a id='19'></a>\n",
    "<span style=\"color:pink;font-weight:600;font-size:25px;font-style:serif\">\n",
    "    Data prediction on test data\n",
    "</span>\n"
   ]
  },
  {
   "cell_type": "code",
   "execution_count": 40,
   "id": "e1e523c3",
   "metadata": {
    "execution": {
     "iopub.execute_input": "2022-10-16T18:23:54.886867Z",
     "iopub.status.busy": "2022-10-16T18:23:54.886455Z",
     "iopub.status.idle": "2022-10-16T18:23:54.935783Z",
     "shell.execute_reply": "2022-10-16T18:23:54.934636Z"
    },
    "papermill": {
     "duration": 0.071948,
     "end_time": "2022-10-16T18:23:54.938454",
     "exception": false,
     "start_time": "2022-10-16T18:23:54.866506",
     "status": "completed"
    },
    "tags": []
   },
   "outputs": [],
   "source": [
    "# make predictions which we will submit. \n",
    "test_preds = rf_model_on_full_data.predict(final_test_scaled)"
   ]
  },
  {
   "cell_type": "code",
   "execution_count": 41,
   "id": "fc66f8af",
   "metadata": {
    "execution": {
     "iopub.execute_input": "2022-10-16T18:23:54.977997Z",
     "iopub.status.busy": "2022-10-16T18:23:54.977574Z",
     "iopub.status.idle": "2022-10-16T18:23:54.985030Z",
     "shell.execute_reply": "2022-10-16T18:23:54.984034Z"
    },
    "papermill": {
     "duration": 0.030281,
     "end_time": "2022-10-16T18:23:54.987495",
     "exception": false,
     "start_time": "2022-10-16T18:23:54.957214",
     "status": "completed"
    },
    "tags": []
   },
   "outputs": [
    {
     "data": {
      "text/plain": [
       "(1459, 219)"
      ]
     },
     "execution_count": 41,
     "metadata": {},
     "output_type": "execute_result"
    }
   ],
   "source": [
    "final_test.shape"
   ]
  },
  {
   "cell_type": "markdown",
   "id": "537a4a2b",
   "metadata": {
    "papermill": {
     "duration": 0.019589,
     "end_time": "2022-10-16T18:23:55.026758",
     "exception": false,
     "start_time": "2022-10-16T18:23:55.007169",
     "status": "completed"
    },
    "tags": []
   },
   "source": [
    "<a id='20'></a>\n",
    "<span style=\"color:pink;font-weight:600;font-size:25px;font-style:serif\">\n",
    "    Generate submission\n",
    "</span>\n"
   ]
  },
  {
   "cell_type": "code",
   "execution_count": 42,
   "id": "8901bcd0",
   "metadata": {
    "execution": {
     "iopub.execute_input": "2022-10-16T18:23:55.068365Z",
     "iopub.status.busy": "2022-10-16T18:23:55.067979Z",
     "iopub.status.idle": "2022-10-16T18:23:55.080466Z",
     "shell.execute_reply": "2022-10-16T18:23:55.079406Z"
    },
    "papermill": {
     "duration": 0.035983,
     "end_time": "2022-10-16T18:23:55.083120",
     "exception": false,
     "start_time": "2022-10-16T18:23:55.047137",
     "status": "completed"
    },
    "tags": []
   },
   "outputs": [],
   "source": [
    "# Run the code to save predictions in the format used for competition scoring\n",
    "output = pd.DataFrame({'Id': test_data.Id,\n",
    "                       'SalePrice': test_preds})\n",
    "output.to_csv('submission.csv', index=False)"
   ]
  },
  {
   "cell_type": "markdown",
   "id": "601662a1",
   "metadata": {
    "papermill": {
     "duration": 0.018027,
     "end_time": "2022-10-16T18:23:55.120166",
     "exception": false,
     "start_time": "2022-10-16T18:23:55.102139",
     "status": "completed"
    },
    "tags": []
   },
   "source": [
    "<span style=\"font-weight:600;font-size:25px;font-style:serif;\">\n",
    "    \n",
    "    I hope you enjoyed this kernel!\n",
    "    If you have any questions or tips, feel free to reach out :)\n",
    "</span>\n",
    "\n"
   ]
  },
  {
   "cell_type": "markdown",
   "id": "a7815872",
   "metadata": {
    "papermill": {
     "duration": 0.018509,
     "end_time": "2022-10-16T18:23:55.157146",
     "exception": false,
     "start_time": "2022-10-16T18:23:55.138637",
     "status": "completed"
    },
    "tags": []
   },
   "source": [
    "[Top](#21)"
   ]
  },
  {
   "cell_type": "markdown",
   "id": "64807fad",
   "metadata": {
    "papermill": {
     "duration": 0.018748,
     "end_time": "2022-10-16T18:23:55.195775",
     "exception": false,
     "start_time": "2022-10-16T18:23:55.177027",
     "status": "completed"
    },
    "tags": []
   },
   "source": [
    "<div class=\"alert\" style=\"background-color:thistle; text-align:center; color:white; weight:200; font-size:30px;\">\n",
    "    🕊 Feedback & upvotes much appreciated! 🕊\n",
    "</div>"
   ]
  }
 ],
 "metadata": {
  "kernelspec": {
   "display_name": "Python 3",
   "language": "python",
   "name": "python3"
  },
  "language_info": {
   "codemirror_mode": {
    "name": "ipython",
    "version": 3
   },
   "file_extension": ".py",
   "mimetype": "text/x-python",
   "name": "python",
   "nbconvert_exporter": "python",
   "pygments_lexer": "ipython3",
   "version": "3.7.12"
  },
  "papermill": {
   "default_parameters": {},
   "duration": 20.953734,
   "end_time": "2022-10-16T18:23:56.038227",
   "environment_variables": {},
   "exception": null,
   "input_path": "__notebook__.ipynb",
   "output_path": "__notebook__.ipynb",
   "parameters": {},
   "start_time": "2022-10-16T18:23:35.084493",
   "version": "2.3.4"
  }
 },
 "nbformat": 4,
 "nbformat_minor": 5
}
